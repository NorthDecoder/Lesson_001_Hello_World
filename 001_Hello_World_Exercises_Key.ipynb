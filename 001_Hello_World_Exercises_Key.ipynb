{
 "cells": [
  {
   "cell_type": "markdown",
   "metadata": {},
   "source": [
    "<img src ='Python_logo.png'>\n",
    "\n",
    "# Lesson 001 - Hello World! Exercises\n",
    "\n",
    "These exercises are designed to help you strengthen your newly learned skills in Python. While these first exercises are relatively simple, and may only take you a few minutes to complete, they lay the foundation for future work that will be much more complex. \n",
    "\n",
    "# How do I become a great programmer?\n",
    "\n",
    "The old adage that it takes 10,000 hours of practice to master a skill applies in answering the question of becoming a great programmer. Good programming skills are a combination of both knowing the language you are trying to master and thinking like a programmer. \n",
    "\n",
    "Thinking like a programmer is to think in a methodical, linear fashion.\n",
    "\n",
    "Thinking like a programmer is to accept that you do not, and will not, know everything about a programming language.\n",
    "\n",
    "Thinking like a programmer is to be perpetually curious and wanting to seek new information. \n",
    "\n",
    "Thinking like a programmer is to not assume any action will be taken; a computer will only do what you tell it to do.\n",
    "\n",
    "Thinking like a programmer is to see the world around you in a different way. Computers are linear in their thinking and actions, and programmers take a non-linear world, then restructure it into a linear set of instructions, and finally write the correct syntax to have the computer understand what you want it to do.\n",
    "\n",
    "Finally, thinking like a programmer is to understand that learning and using a computer language is parishable knowledge. It is exactly the same as learning a foreign language. You can read every book about a language, but without speaking and writing it, you will never learn it. Learning Python is the same. You ***must*** use the language daily to learn it. \n",
    "\n"
   ]
  },
  {
   "cell_type": "markdown",
   "metadata": {},
   "source": [
    "# The Zen of Python\n",
    "\n",
    "\"The Zen of Python is a collection of 19 \"guiding principles\" for writing computer programs that influence the design of the Python programming language. Software engineer Tim Peters wrote this set of principles and posted it on the Python mailing list in 1999. Peters's list left open a 20th principle \"for Guido to fill in\", referring to Guido Van Rossum, the original author of the Python language. The vacancy for a 20th principle has not been filled.\n",
    "\n",
    "Peters's Zen of Python was included as entry number 20 in the language's official Python Enhancement Proposals, which was released into the public domain. It is also included as an Easter egg in the Python interpreter, which can be displayed by entering import this.\" [https://en.wikipedia.org/wiki/Zen_of_Python]"
   ]
  },
  {
   "cell_type": "code",
   "execution_count": 1,
   "metadata": {},
   "outputs": [
    {
     "name": "stdout",
     "output_type": "stream",
     "text": [
      "The Zen of Python, by Tim Peters\n",
      "\n",
      "Beautiful is better than ugly.\n",
      "Explicit is better than implicit.\n",
      "Simple is better than complex.\n",
      "Complex is better than complicated.\n",
      "Flat is better than nested.\n",
      "Sparse is better than dense.\n",
      "Readability counts.\n",
      "Special cases aren't special enough to break the rules.\n",
      "Although practicality beats purity.\n",
      "Errors should never pass silently.\n",
      "Unless explicitly silenced.\n",
      "In the face of ambiguity, refuse the temptation to guess.\n",
      "There should be one-- and preferably only one --obvious way to do it.\n",
      "Although that way may not be obvious at first unless you're Dutch.\n",
      "Now is better than never.\n",
      "Although never is often better than *right* now.\n",
      "If the implementation is hard to explain, it's a bad idea.\n",
      "If the implementation is easy to explain, it may be a good idea.\n",
      "Namespaces are one honking great idea -- let's do more of those!\n"
     ]
    }
   ],
   "source": [
    "# Run this code to see The Zen of Python by Tim Peters. It resides inside of Python.\n",
    "\n",
    "import this"
   ]
  },
  {
   "cell_type": "markdown",
   "metadata": {},
   "source": [
    "# Exercises"
   ]
  },
  {
   "cell_type": "code",
   "execution_count": null,
   "metadata": {},
   "outputs": [],
   "source": [
    "# Write a print statement that prints out the saying, \"Hello World!\", \n",
    "# just as you see it here with quotation marks. \n",
    "\n",
    "print('\"Hello World!\"')\n"
   ]
  },
  {
   "cell_type": "code",
   "execution_count": null,
   "metadata": {},
   "outputs": [],
   "source": [
    "# Write a print statement that prints out the saying, 'Hello World!'', \n",
    "# just as you see it here with quotation marks. \n",
    "\n",
    "print(\"'Hello World!'\")\n"
   ]
  },
  {
   "cell_type": "markdown",
   "metadata": {},
   "source": [
    "In the next coding block, write a multi-line comment explaining which comment technique is best to do that."
   ]
  },
  {
   "cell_type": "code",
   "execution_count": null,
   "metadata": {},
   "outputs": [],
   "source": [
    "'''\n",
    "To write a multi-line comment in your code which Python will ignore, we use triple single quotation marks at the\n",
    "beginning of the comment and at the end of the comment. \n",
    "\n",
    "When Python encounters triple single quotation marks, it will ignore everything written in the code until it\n",
    "encounters the second set of triple single quotation marks. \n",
    "\n",
    "'''"
   ]
  },
  {
   "cell_type": "markdown",
   "metadata": {},
   "source": [
    "In the next coding block, write a program that will return a print out of the sum of 21+21."
   ]
  },
  {
   "cell_type": "code",
   "execution_count": null,
   "metadata": {},
   "outputs": [],
   "source": [
    "print(21+21)"
   ]
  },
  {
   "cell_type": "markdown",
   "metadata": {},
   "source": [
    "Run the next block to set up a dataframe for our subsequent problem. Do not worry about not understanding the code, we will cover it in the upcoming lessons. For now, just run the code. "
   ]
  },
  {
   "cell_type": "code",
   "execution_count": 5,
   "metadata": {},
   "outputs": [],
   "source": [
    "import pandas as pd\n",
    "\n",
    "df = pd.DataFrame({'col_one':['1.1', '1.2', '1.3'],\n",
    "                   'col_two':['2.4', '2.5', '2.6'],\n",
    "                   'col_three':['3.7', '3.8', '3.9']})"
   ]
  },
  {
   "cell_type": "markdown",
   "metadata": {},
   "source": [
    "We now have a table that we can call forward by using the variable 'df'. \n",
    "\n",
    "Run the next block just to see that the table loaded. "
   ]
  },
  {
   "cell_type": "code",
   "execution_count": 7,
   "metadata": {},
   "outputs": [
    {
     "data": {
      "text/html": [
       "<div>\n",
       "<style scoped>\n",
       "    .dataframe tbody tr th:only-of-type {\n",
       "        vertical-align: middle;\n",
       "    }\n",
       "\n",
       "    .dataframe tbody tr th {\n",
       "        vertical-align: top;\n",
       "    }\n",
       "\n",
       "    .dataframe thead th {\n",
       "        text-align: right;\n",
       "    }\n",
       "</style>\n",
       "<table border=\"1\" class=\"dataframe\">\n",
       "  <thead>\n",
       "    <tr style=\"text-align: right;\">\n",
       "      <th></th>\n",
       "      <th>col_one</th>\n",
       "      <th>col_two</th>\n",
       "      <th>col_three</th>\n",
       "    </tr>\n",
       "  </thead>\n",
       "  <tbody>\n",
       "    <tr>\n",
       "      <th>0</th>\n",
       "      <td>1.1</td>\n",
       "      <td>2.4</td>\n",
       "      <td>3.7</td>\n",
       "    </tr>\n",
       "    <tr>\n",
       "      <th>1</th>\n",
       "      <td>1.2</td>\n",
       "      <td>2.5</td>\n",
       "      <td>3.8</td>\n",
       "    </tr>\n",
       "    <tr>\n",
       "      <th>2</th>\n",
       "      <td>1.3</td>\n",
       "      <td>2.6</td>\n",
       "      <td>3.9</td>\n",
       "    </tr>\n",
       "  </tbody>\n",
       "</table>\n",
       "</div>"
      ],
      "text/plain": [
       "  col_one col_two col_three\n",
       "0     1.1     2.4       3.7\n",
       "1     1.2     2.5       3.8\n",
       "2     1.3     2.6       3.9"
      ]
     },
     "execution_count": 7,
     "metadata": {},
     "output_type": "execute_result"
    }
   ],
   "source": [
    "df"
   ]
  },
  {
   "cell_type": "markdown",
   "metadata": {},
   "source": [
    "Using a `display` statement in the next code block, display the table 'df'."
   ]
  },
  {
   "cell_type": "code",
   "execution_count": null,
   "metadata": {},
   "outputs": [],
   "source": [
    "display(df)"
   ]
  },
  {
   "cell_type": "markdown",
   "metadata": {},
   "source": [
    "Using a `print` statement in the next code block, print the table 'df'."
   ]
  },
  {
   "cell_type": "code",
   "execution_count": null,
   "metadata": {},
   "outputs": [],
   "source": [
    "print(df)"
   ]
  },
  {
   "cell_type": "markdown",
   "metadata": {},
   "source": [
    "In the next code block, using the best documentation technique, explain the difference between using `display` and `print`\n",
    "\n",
    "1. for a sentence\n",
    "1. for a table\n",
    "\n",
    "Which is better to use when?"
   ]
  },
  {
   "cell_type": "markdown",
   "metadata": {},
   "source": [
    "display is best used for tabluar information. \n",
    "\n",
    "print is best used for all other types of output. "
   ]
  },
  {
   "cell_type": "markdown",
   "metadata": {},
   "source": [
    "Take a look at the following bit of code. \n",
    "1. Can you tell what we will get if we run it?\n",
    "1. Can you explain why we will get what you believe will happen?"
   ]
  },
  {
   "cell_type": "markdown",
   "metadata": {},
   "source": [
    "> a = 42\n",
    "\n",
    "> print(a)\n",
    "\n",
    "> print('a')"
   ]
  },
  {
   "cell_type": "code",
   "execution_count": null,
   "metadata": {},
   "outputs": [],
   "source": [
    "'''\n",
    "The first print statement will return the number '42', while the second print statement will return the letter \"a\". \n",
    "This is because of the single quotation marks in the print statement. Quotation marks in a print statement\n",
    "tells Python that the items in the quotation marks should be treated as text, while any letters outside of \n",
    "quotation marks within a print statement are to be treated as variables (which we will discuss in the upcoming\n",
    "weeks). \n",
    "\n",
    "'''"
   ]
  },
  {
   "cell_type": "markdown",
   "metadata": {},
   "source": [
    "Next, run the code. Did you predict correctly?"
   ]
  },
  {
   "cell_type": "code",
   "execution_count": null,
   "metadata": {},
   "outputs": [],
   "source": [
    "a = 42\n",
    "\n",
    "print(a)\n",
    "print('a')"
   ]
  },
  {
   "cell_type": "code",
   "execution_count": null,
   "metadata": {},
   "outputs": [],
   "source": []
  }
 ],
 "metadata": {
  "kernelspec": {
   "display_name": "Python 3",
   "language": "python",
   "name": "python3"
  },
  "language_info": {
   "codemirror_mode": {
    "name": "ipython",
    "version": 3
   },
   "file_extension": ".py",
   "mimetype": "text/x-python",
   "name": "python",
   "nbconvert_exporter": "python",
   "pygments_lexer": "ipython3",
   "version": "3.6.7"
  },
  "toc": {
   "base_numbering": 1,
   "nav_menu": {},
   "number_sections": true,
   "sideBar": true,
   "skip_h1_title": false,
   "title_cell": "Table of Contents",
   "title_sidebar": "Contents",
   "toc_cell": false,
   "toc_position": {},
   "toc_section_display": true,
   "toc_window_display": false
  },
  "varInspector": {
   "cols": {
    "lenName": 16,
    "lenType": 16,
    "lenVar": 40
   },
   "kernels_config": {
    "python": {
     "delete_cmd_postfix": "",
     "delete_cmd_prefix": "del ",
     "library": "var_list.py",
     "varRefreshCmd": "print(var_dic_list())"
    },
    "r": {
     "delete_cmd_postfix": ") ",
     "delete_cmd_prefix": "rm(",
     "library": "var_list.r",
     "varRefreshCmd": "cat(var_dic_list()) "
    }
   },
   "types_to_exclude": [
    "module",
    "function",
    "builtin_function_or_method",
    "instance",
    "_Feature"
   ],
   "window_display": false
  }
 },
 "nbformat": 4,
 "nbformat_minor": 2
}
