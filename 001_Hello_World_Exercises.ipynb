{
 "cells": [
  {
   "cell_type": "markdown",
   "metadata": {},
   "source": [
    "<img src ='Python_logo.png'>\n",
    "\n",
    "# Lesson 001 - Hello World! Exercises\n",
    "\n",
    "These exercises are designed to help you strengthen your newly learned skills in Python. While these first exercises are relatively simple, and may only take you a few minutes to complete, they lay the foundation for future work that will be much more complex. \n",
    "\n",
    "# How do I become a great programmer?\n",
    "\n",
    "The old adage that it takes 10,000 hours of practice to master a skill applies in answering the question of becoming a great programmer. Good programming skills are a combination of both knowing the language you are trying to master and thinking like a programmer. \n",
    "\n",
    "Thinking like a programmer is to think in a methodical, linear fashion.\n",
    "\n",
    "Thinking like a programmer is to accept that you do not, and will not, know everything about a programming language.\n",
    "\n",
    "Thinking like a programmer is to be perpetually curious and wanting to seek new information. \n",
    "\n",
    "Thinking like a programmer is to not assume any action will be taken; a computer will only do what you tell it to do.\n",
    "\n",
    "Thinking like a programmer is to see the world around you in a different way. Computers are linear in their thinking and actions, and programmers take a non-linear world, then restructure it into a linear set of instructions, and finally write the correct syntax to have the computer understand what you want it to do.\n",
    "\n",
    "Finally, thinking like a programmer is to understand that learning and using a computer language is parishable knowledge. It is exactly the same as learning a foreign language. You can read every book about a language, but without speaking and writing it, you will never learn it. Learning Python is the same. You ***must*** use the language daily to learn it. \n",
    "\n"
   ]
  },
  {
   "cell_type": "markdown",
   "metadata": {},
   "source": [
    "# The Zen of Python\n",
    "\n",
    "\"The Zen of Python is a collection of 19 \"guiding principles\" for writing computer programs that influence the design of the Python programming language. Software engineer Tim Peters wrote this set of principles and posted it on the Python mailing list in 1999. Peters's list left open a 20th principle \"for Guido to fill in\", referring to Guido Van Rossum, the original author of the Python language. The vacancy for a 20th principle has not been filled.\n",
    "\n",
    "Peters's Zen of Python was included as entry number 20 in the language's official Python Enhancement Proposals, which was released into the public domain. It is also included as an Easter egg in the Python interpreter, which can be displayed by entering import this.\" [https://en.wikipedia.org/wiki/Zen_of_Python]"
   ]
  },
  {
   "cell_type": "code",
   "execution_count": null,
   "metadata": {},
   "outputs": [],
   "source": [
    "# Run this code to see The Zen of Python by Tim Peters. It resides inside of Python.\n",
    "\n",
    "import this"
   ]
  },
  {
   "cell_type": "markdown",
   "metadata": {},
   "source": [
    "# Exercises"
   ]
  },
  {
   "cell_type": "code",
   "execution_count": null,
   "metadata": {},
   "outputs": [],
   "source": [
    "# Write a print statement that prints out the saying, \"Hello World!\", \n",
    "# just as you see it here with quotation marks. \n",
    "\n",
    "display()\n"
   ]
  },
  {
   "cell_type": "code",
   "execution_count": null,
   "metadata": {},
   "outputs": [],
   "source": [
    "# Write a print statement that prints out the saying, 'Hello World!'', \n",
    "# just as you see it here with quotation marks. \n",
    "\n",
    "\n"
   ]
  },
  {
   "cell_type": "markdown",
   "metadata": {},
   "source": [
    "In the next coding block, write a multi-line comment explaining which comment technique is best to do that."
   ]
  },
  {
   "cell_type": "code",
   "execution_count": null,
   "metadata": {},
   "outputs": [],
   "source": []
  },
  {
   "cell_type": "markdown",
   "metadata": {},
   "source": [
    "In the next coding block, write a program that will return a print out of the sum of 21+21."
   ]
  },
  {
   "cell_type": "code",
   "execution_count": null,
   "metadata": {},
   "outputs": [],
   "source": []
  },
  {
   "cell_type": "markdown",
   "metadata": {},
   "source": [
    "Run the next block to set up a dataframe for our subsequent problem. Do not worry about not understanding the code, we will cover it in the upcoming lessons. For now, just run the code. "
   ]
  },
  {
   "cell_type": "code",
   "execution_count": null,
   "metadata": {},
   "outputs": [],
   "source": [
    "import pandas as pd\n",
    "\n",
    "df = pd.DataFrame({'col_one':['1.1', '1.2', '1.3'],\n",
    "                   'col_two':['2.4', '2.5', '2.6'],\n",
    "                   'col_three':['3.7', '3.8', '3.9']})"
   ]
  },
  {
   "cell_type": "markdown",
   "metadata": {},
   "source": [
    "We now have a table that we can call forward by using the variable 'df'. \n",
    "\n",
    "Run the next block just to see that the table loaded. "
   ]
  },
  {
   "cell_type": "code",
   "execution_count": null,
   "metadata": {},
   "outputs": [],
   "source": [
    "df"
   ]
  },
  {
   "cell_type": "markdown",
   "metadata": {},
   "source": [
    "Using a `display` statement in the next code block, display the table 'df'."
   ]
  },
  {
   "cell_type": "code",
   "execution_count": null,
   "metadata": {},
   "outputs": [],
   "source": []
  },
  {
   "cell_type": "markdown",
   "metadata": {},
   "source": [
    "Using a `print` statement in the next code block, print the table 'df'."
   ]
  },
  {
   "cell_type": "code",
   "execution_count": null,
   "metadata": {},
   "outputs": [],
   "source": []
  },
  {
   "cell_type": "markdown",
   "metadata": {},
   "source": [
    "In the next code block, using the best documentation technique, explain the difference between using `display` and `print`\n",
    "\n",
    "1. for a sentence\n",
    "1. for a table\n",
    "\n",
    "Which is better to use when?"
   ]
  },
  {
   "cell_type": "code",
   "execution_count": null,
   "metadata": {},
   "outputs": [],
   "source": []
  },
  {
   "cell_type": "markdown",
   "metadata": {},
   "source": [
    "Take a look at the following bit of code. \n",
    "1. Can you tell what we will get if we run it?\n",
    "1. Can you explain why we will get what you believe will happen?"
   ]
  },
  {
   "cell_type": "markdown",
   "metadata": {},
   "source": [
    "> a = 42\n",
    "\n",
    "> print(a)\n",
    "\n",
    "> print('a')"
   ]
  },
  {
   "cell_type": "markdown",
   "metadata": {},
   "source": [
    "Next, run the code. Did you predict correctly?"
   ]
  },
  {
   "cell_type": "code",
   "execution_count": null,
   "metadata": {},
   "outputs": [],
   "source": [
    "a = 42\n",
    "\n",
    "print(a)\n",
    "print('a')"
   ]
  },
  {
   "cell_type": "code",
   "execution_count": null,
   "metadata": {},
   "outputs": [],
   "source": []
  }
 ],
 "metadata": {
  "kernelspec": {
   "display_name": "Python 3",
   "language": "python",
   "name": "python3"
  },
  "language_info": {
   "codemirror_mode": {
    "name": "ipython",
    "version": 3
   },
   "file_extension": ".py",
   "mimetype": "text/x-python",
   "name": "python",
   "nbconvert_exporter": "python",
   "pygments_lexer": "ipython3",
   "version": "3.7.3"
  },
  "toc": {
   "base_numbering": 1,
   "nav_menu": {},
   "number_sections": true,
   "sideBar": true,
   "skip_h1_title": false,
   "title_cell": "Table of Contents",
   "title_sidebar": "Contents",
   "toc_cell": false,
   "toc_position": {},
   "toc_section_display": true,
   "toc_window_display": false
  },
  "varInspector": {
   "cols": {
    "lenName": 16,
    "lenType": 16,
    "lenVar": 40
   },
   "kernels_config": {
    "python": {
     "delete_cmd_postfix": "",
     "delete_cmd_prefix": "del ",
     "library": "var_list.py",
     "varRefreshCmd": "print(var_dic_list())"
    },
    "r": {
     "delete_cmd_postfix": ") ",
     "delete_cmd_prefix": "rm(",
     "library": "var_list.r",
     "varRefreshCmd": "cat(var_dic_list()) "
    }
   },
   "types_to_exclude": [
    "module",
    "function",
    "builtin_function_or_method",
    "instance",
    "_Feature"
   ],
   "window_display": false
  }
 },
 "nbformat": 4,
 "nbformat_minor": 2
}
